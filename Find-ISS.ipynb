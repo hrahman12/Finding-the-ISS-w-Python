{
 "cells": [
  {
   "cell_type": "code",
   "execution_count": 2,
   "id": "54c12cba",
   "metadata": {},
   "outputs": [
    {
     "name": "stdout",
     "output_type": "stream",
     "text": [
      "Collecting geopy\n",
      "  Downloading geopy-2.2.0-py3-none-any.whl (118 kB)\n",
      "     |████████████████████████████████| 118 kB 8.7 MB/s            \n",
      "\u001b[?25hCollecting geographiclib<2,>=1.49\n",
      "  Downloading geographiclib-1.52-py3-none-any.whl (38 kB)\n",
      "Installing collected packages: geographiclib, geopy\n",
      "Successfully installed geographiclib-1.52 geopy-2.2.0\n",
      "Note: you may need to restart the kernel to use updated packages.\n"
     ]
    }
   ],
   "source": [
    "pip install geopy"
   ]
  },
  {
   "cell_type": "code",
   "execution_count": 4,
   "id": "e64cdd52",
   "metadata": {},
   "outputs": [
    {
     "name": "stdout",
     "output_type": "stream",
     "text": [
      "The International Space Station is currently over the ocean\n",
      "Latitude:  -37.6002\n",
      "Longitude:  -104.7748\n",
      "Check out the current location on Google Maps:  https://www.google.com/maps/search/?api=1&query=-37.6002,-104.7748\n"
     ]
    }
   ],
   "source": [
    "from urllib.request import urlopen\n",
    "import json\n",
    "from datetime import datetime\n",
    "from geopy.geocoders import Nominatim\n",
    "\n",
    "iss_data = urlopen(\"http://api.open-notify.org/iss-now.json\") #Get data from API\n",
    "\n",
    "iss_processed_data = json.loads(iss_data.read()) #Load data\n",
    "\n",
    "geolocator = Nominatim(user_agent=\"Hanah Rahman ISS Locator\") #Variable for calling Reverse Geocoding API\n",
    "latAndLong = iss_processed_data['iss_position']['latitude'] + \", \" + iss_processed_data['iss_position']['longitude'] #Get Latitude and Longitude values for printing\n",
    "latAndLong_no_space = iss_processed_data['iss_position']['latitude'] + \",\" + iss_processed_data['iss_position']['longitude'] #Latitude and Longitude for Google Maps link\n",
    "\n",
    "maps_link = \"https://www.google.com/maps/search/?api=1&query=\" + latAndLong_no_space #Google Maps Link\n",
    "try: #Try block works if there is an address (when ISS is over land)\n",
    "    location = geolocator.reverse(latAndLong)\n",
    "    print (\"The International Space Station is currently above: \", location.address)\n",
    "    print (\"Latitude: \", iss_processed_data['iss_position']['latitude'])\n",
    "    print (\"Longitude: \", iss_processed_data['iss_position']['longitude'])\n",
    "    print (\"Check out the current location on Google Maps: \",  maps_link)\n",
    "except: #Except block is called when address can not be found\n",
    "    print (\"The International Space Station is currently over the ocean\")\n",
    "    print (\"Latitude: \", iss_processed_data['iss_position']['latitude'])\n",
    "    print (\"Longitude: \", iss_processed_data['iss_position']['longitude'])\n",
    "    print (\"Check out the current location on Google Maps: \",  maps_link)"
   ]
  },
  {
   "cell_type": "code",
   "execution_count": null,
   "id": "71e92bb3",
   "metadata": {},
   "outputs": [],
   "source": []
  }
 ],
 "metadata": {
  "kernelspec": {
   "display_name": "Python 3",
   "language": "python",
   "name": "python3"
  },
  "language_info": {
   "codemirror_mode": {
    "name": "ipython",
    "version": 3
   },
   "file_extension": ".py",
   "mimetype": "text/x-python",
   "name": "python",
   "nbconvert_exporter": "python",
   "pygments_lexer": "ipython3",
   "version": "3.6.13"
  }
 },
 "nbformat": 4,
 "nbformat_minor": 5
}
